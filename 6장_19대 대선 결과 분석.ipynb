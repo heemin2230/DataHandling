{
 "cells": [
  {
   "cell_type": "markdown",
   "metadata": {},
   "source": [
    "# 6장 19대 대선 자료 분석하기\n",
    "- 이 책을 집필 완료 후 선거관리 위원회 홈페이지가 재보궐선거로 구성화면이 변경되었습니다.\n",
    "- 그러므로 일일이 진입하던 코드를 생략하고, 바로 19대 대통령 선거 결과를 확인할 수 있는 페이지 바로가기로 진입합니다.\n",
    "- 그리고 6-1, 6-2 절의 코드는 바뀝니다. 그러나 6-3절부터 학습하는 경우라면 Github에서 배포하는 데이터를 사용"
   ]
  },
  {
   "cell_type": "markdown",
   "metadata": {},
   "source": [
    "## 6-1. Selenium과 Beautiful Soup을 이용한 데이터 획득 준비 작업"
   ]
  },
  {
   "cell_type": "code",
   "execution_count": 1,
   "metadata": {},
   "outputs": [],
   "source": [
    "import pandas as pd\n",
    "import numpy as np\n",
    "\n",
    "import platform\n",
    "import matplotlib.pyplot as plt\n",
    "%matplotlib inline\n",
    "\n",
    "path = \"c:/Windows/Fonts/malgun.ttf\"\n",
    "from matplotlib import font_manager, rc\n",
    "if platform.system() == 'Windows':\n",
    "    font_name = font_manager.FontProperties(fname=path).get_name()\n",
    "    rc('font',family=font_name)\n",
    "plt.rcParams['axes.unicode_minus'] = False"
   ]
  },
  {
   "cell_type": "code",
   "execution_count": 3,
   "metadata": {},
   "outputs": [],
   "source": [
    "from selenium import webdriver\n",
    "import time"
   ]
  },
  {
   "cell_type": "code",
   "execution_count": 4,
   "metadata": {},
   "outputs": [],
   "source": [
    "# 크롬 드라이버를 사용하여 크롬 창을 연다\n",
    "driver = webdriver.Chrome('./driver/chromedriver.exe')\n",
    "\n",
    "# 분야별정보 -> 역대선거통계 -> 투개표 -> 개표현황(읍면동별)\n",
    "driver.get(\"http://info.nec.go.kr/main/showDocument.xhtml?electionId=0000000000&topMenuId=VC&secondMenuId=VCCP09\")"
   ]
  },
  {
   "cell_type": "code",
   "execution_count": 5,
   "metadata": {},
   "outputs": [],
   "source": [
    "# '대통령선거' 항목 클릭\n",
    "driver.find_element_by_id(\"electionType1\").click()"
   ]
  },
  {
   "cell_type": "code",
   "execution_count": 6,
   "metadata": {},
   "outputs": [],
   "source": [
    "driver.find_element_by_id(\"electionName\").send_keys(\"제19대\")"
   ]
  },
  {
   "cell_type": "code",
   "execution_count": 7,
   "metadata": {},
   "outputs": [],
   "source": [
    "driver.find_element_by_id(\"electionCode\").send_keys(\"대통령선거\")"
   ]
  },
  {
   "cell_type": "code",
   "execution_count": 11,
   "metadata": {},
   "outputs": [
    {
     "data": {
      "text/plain": [
       "['서울특별시',\n",
       " '부산광역시',\n",
       " '대구광역시',\n",
       " '인천광역시',\n",
       " '광주광역시',\n",
       " '대전광역시',\n",
       " '울산광역시',\n",
       " '세종특별자치시',\n",
       " '경기도',\n",
       " '강원도',\n",
       " '충청북도',\n",
       " '충청남도',\n",
       " '전라북도',\n",
       " '전라남도',\n",
       " '경상북도',\n",
       " '경상남도',\n",
       " '제주특별자치도']"
      ]
     },
     "execution_count": 11,
     "metadata": {},
     "output_type": "execute_result"
    }
   ],
   "source": [
    "# 'option'에 있는 시도 항목들을 전부 가지고 온다.\n",
    "sido_list_raw = driver.find_element_by_xpath(\"\"\"//*[@id=\"cityCode\"]\"\"\")\n",
    "sido_list = sido_list_raw.find_elements_by_tag_name(\"option\")\n",
    "sido_names_values = [option.text for option in sido_list]\n",
    "sido_names_values = sido_names_values[2:]\n",
    "sido_names_values"
   ]
  },
  {
   "cell_type": "code",
   "execution_count": 14,
   "metadata": {},
   "outputs": [
    {
     "data": {
      "text/plain": [
       "[]"
      ]
     },
     "execution_count": 14,
     "metadata": {},
     "output_type": "execute_result"
    }
   ],
   "source": [
    "# 'option'에 있는 시도 항목들을 전부 가지고 온다.\n",
    "sigun_list_raw = driver.find_element_by_xpath(\"\"\"//*[@id=\"townCode\"]\"\"\")\n",
    "sigun_list = sido_list_raw.find_elements_by_tag_name(\"option\")\n",
    "sigun_names_values = [option.text for option in sigun_list]\n",
    "sigun_names_values = sigun_names_values[2:]\n",
    "sigun_names_values"
   ]
  },
  {
   "cell_type": "code",
   "execution_count": null,
   "metadata": {},
   "outputs": [],
   "source": [
    "driver.find_element_by_xpath(\"\"\"//*[@id=\"searchBtn\"]\"\"\").click()"
   ]
  },
  {
   "cell_type": "code",
   "execution_count": null,
   "metadata": {},
   "outputs": [],
   "source": [
    "# BeautifulSoup을 사용해서 현재 페이지 파싱\n",
    "from bs4 import BeautifulSoup\n",
    "\n",
    "html - driver.page_source\n",
    "soup = BeautifulSoup(html, 'html.parser')"
   ]
  },
  {
   "cell_type": "code",
   "execution_count": null,
   "metadata": {},
   "outputs": [],
   "source": [
    "# aligR을 모두 찾아서 1~4번째까지 출력\n",
    "tmp = soup.find_all('td','alignR')\n",
    "tmp[1:5]"
   ]
  },
  {
   "cell_type": "markdown",
   "metadata": {},
   "source": [
    "## 6-2 19대 개표 결과 데이터 획득하기"
   ]
  },
  {
   "cell_type": "code",
   "execution_count": null,
   "metadata": {},
   "outputs": [],
   "source": [
    "from tqdm import tqdm_notebook\n",
    "# 시도/시군 목록을 넣기 위한 리스트를 생성해준다.\n",
    "sido_name = []\n",
    "sigun_name = []\n",
    "\n",
    "# 시도 목록을 모두 입력칸에 반복해서 넣어준다.\n",
    "for sido_value in tqdm_notebook(sido_names_values):\n",
    "    element = driver.find_element_by_id(\"cityCode\")\n",
    "    element.send_keys(sido_value)\n",
    "    \n",
    "    time.sleep(1)\n",
    "    \n",
    "    # 시군 목록을 모두 입력칸에 반복해서 넣어준다.\n",
    "    sigun_list_raw = driver.find_element_by_xpath(\"\"\"//*[@id=\"townCode\"]\"\"\")\n",
    "    sigun_list = sigun_list_raw.find_elements_by_tag_name(\"option\")\n",
    "    \n",
    "    # 시군 목록에서 나온 값들을 출력\n",
    "    sigun_names_values = [option.text for option in sigun_list]\n",
    "    sigun_names_values = sigun_names_values[1:]\n",
    "    \n",
    "    # 시군 목록에서 나온 값들을 리스트에 추가해준다.\n",
    "    for sigun_value in sigun_names_values:\n",
    "        sido_name.append(sido_value)\n",
    "        sigun_name.append(sigun_value)"
   ]
  },
  {
   "cell_type": "code",
   "execution_count": null,
   "metadata": {},
   "outputs": [],
   "source": [
    "# 각 값들을 데이터프레임으로 만들어준다.\n",
    "election_result = pd.DataFrame({\"광역시도\":sido_name,\"시군\":sigun_name})\n",
    "\n",
    "election_result.head()"
   ]
  },
  {
   "cell_type": "code",
   "execution_count": null,
   "metadata": {},
   "outputs": [],
   "source": [
    "# 투표율을 얻기 위한 함수 생성\n",
    "def get_vote_info(n):\n",
    "    # 페이지 html 소스를 읽어온다.\n",
    "    html = driver.page_source\n",
    "    soup = BeautifulSoup(html,'lxml')\n",
    "    \n",
    "    # 'td'태그에 있는 값들을 불러오고 ','를 삭제한다.\n",
    "    tmp = soup.find_all('td','alignR')\n",
    "    tmp_values = [float(tmp_val.get_text().replace(',','')) for tmp_val in tmp[1:5]]\n",
    "    \n",
    "    # 각 후보들의 득표 값들을 알맞게 넣어준다.\n",
    "    pop[n] = tmp_values[0]\n",
    "    moon[n] = tmp_values[1]\n",
    "    hong[n] = tmp_values[2]\n",
    "    ahn[n] = tmp_values[3]"
   ]
  },
  {
   "cell_type": "code",
   "execution_count": null,
   "metadata": {},
   "outputs": [],
   "source": [
    "import numpy as np\n",
    "\n",
    "# 값을 불러올 때, 없으면 nan 처리한다.\n",
    "def fail_procedure(n):\n",
    "    pop[n] = np.nan\n",
    "    moon[n] = np.nan\n",
    "    hong[n] = np.nan\n",
    "    ahn[n] = np.nan"
   ]
  },
  {
   "cell_type": "code",
   "execution_count": null,
   "metadata": {},
   "outputs": [],
   "source": [
    "# nan처리 된 값들을 계산한다.\n",
    "pop = [np.nan]*len(election_result)\n",
    "moon = [np.nan]*len(election_result)\n",
    "hong = [np.nan]*len(election_result)\n",
    "ahn = [np.nan]*len(election_result)\n",
    "\n",
    "len(pop),len(moon), len(hong), len(ahn)"
   ]
  },
  {
   "cell_type": "code",
   "execution_count": null,
   "metadata": {},
   "outputs": [],
   "source": [
    "for n in tqdm_notebook(election_result.index):\n",
    "    # 에러가 나면 except 구문을 실행\n",
    "    try:\n",
    "        # 각 항목들에 값을 넣어주는 구문\n",
    "        element = driver.find_element_by_id(\"CityCode\")\n",
    "        element.send_keys(election_result[\"광역시도\"][n])\n",
    "        \n",
    "        time.sleep(0.5)\n",
    "        \n",
    "        element = driver.find_element_by_id(\"townCode\")\n",
    "        element.send_keys(election_result[\"시군\"][n])\n",
    "        \n",
    "        driver.find_element_by_xpath(\"\"\"\"//*[@id=\"searchBtn\"]\"\"\").click()\n",
    "        \n",
    "        time.sleep(0.5)\n",
    "        \n",
    "        get_vote_info()\n",
    "    except:\n",
    "        print('--- Erro r---')\n",
    "        fail_procedure(n)"
   ]
  },
  {
   "cell_type": "code",
   "execution_count": null,
   "metadata": {},
   "outputs": [],
   "source": [
    "re_try_index = election_result[election_result['pop'].isnull()].index\n",
    "\n",
    "for n in tqdm_notebook(re_try_index):\n",
    "    try:\n",
    "        element = driver.find_element_by_id(\"CityCode\")\n",
    "        element.send_keys(election_result['광역시도'][n])\n",
    "        \n",
    "        time.sleep(0.5)\n",
    "        \n",
    "         element = driver.find_element_by_id(\"townCode\")\n",
    "        element.send_keys(election_result[\"시군\"][n])\n",
    "        \n",
    "        driver.find_element_by_xpath(\"\"\"\"//*[@id=\"spanSubit\"]/input\"\"\").click()\n",
    "        \n",
    "        time.sleep(0.5)\n",
    "        \n",
    "        get_vote_info()\n",
    "    except:\n",
    "        print('--- Erro r---')\n",
    "        fail_procedure(n)\n",
    "        "
   ]
  },
  {
   "cell_type": "code",
   "execution_count": null,
   "metadata": {},
   "outputs": [],
   "source": [
    "election_result['pop'] = pop\n",
    "election_result['moon'] = moon\n",
    "election_result['ahn'] = ahn\n",
    "election_result['hong'] = hong\n",
    "election_result.head()"
   ]
  },
  {
   "cell_type": "code",
   "execution_count": null,
   "metadata": {},
   "outputs": [],
   "source": [
    "election_result.to_csv('./data/05. election_result.csv',encoding='utf-8',sep=',')"
   ]
  },
  {
   "cell_type": "markdown",
   "metadata": {},
   "source": [
    "## 6-3 각 후보의 득표율과 지역 ID 정리하기"
   ]
  },
  {
   "cell_type": "code",
   "execution_count": null,
   "metadata": {},
   "outputs": [],
   "source": [
    "# csv 파일 읽어오기\n",
    "election_result = pd.read_csv('./data/06. election_result.csv',encoding='utf-8',index_col=0)\n",
    "election_result.head()"
   ]
  },
  {
   "cell_type": "code",
   "execution_count": null,
   "metadata": {},
   "outputs": [],
   "source": [
    "# '광역시도' 이름을 정리한다\n",
    "sido_candi = election_result['광역시도']\n",
    "sido_candi = [name[:2] if name[:2] in ['서울','부산','대구','광주','인천','대전','울산']\n",
    "                        else '' for name in sido_candi]"
   ]
  },
  {
   "cell_type": "code",
   "execution_count": null,
   "metadata": {},
   "outputs": [],
   "source": [
    "# 시구 이름을 정리하는 함수를 지정해준다.\n",
    "def cut_char_sigu(name):\n",
    "    return name if len(name) == 2 else name[:-1]"
   ]
  },
  {
   "cell_type": "code",
   "execution_count": null,
   "metadata": {},
   "outputs": [],
   "source": [
    "import re\n",
    "\n",
    "sigun_candi = ['']*len(election_result)\n",
    "\n",
    "# 행정구를 가지고 있는 도시들의 이름을 정렬해준다.\n",
    "for n in election_result.index:\n",
    "    each = election_result['시군'][n]\n",
    "    if each in ['수원','성남','안양','안산','고양','용인','청주','천안','전주','포항','창원']:\n",
    "        # '시'글자를 기준으로 나눈다.\n",
    "        sigun_candi[n] = re.split('시',each)[0] + ' '+cut_char_sigu(re.split('시',each)[1])\n",
    "        else:\n",
    "            sigun_candi[n] = cut_char_sigu(each)\n",
    "            \n",
    "        sigun_candi"
   ]
  },
  {
   "cell_type": "code",
   "execution_count": null,
   "metadata": {},
   "outputs": [],
   "source": [
    "ID_candi = [sido_candi[n]+' '+sigun_candi[n] for n in range(0,len(sigun_candi))]\n",
    "\n",
    "# 첫글자가 띄어쓰기인 경우 정리하게끔 한다.\n",
    "ID_candi = [name[1:] if name[0]==' ' else name for name in ID_candi]\n",
    "\n",
    "# 세종시는 예외처리\n",
    "ID_candi = [name[:2] if name[:2]=='세종' else name for name in ID_candi]\n",
    "\n",
    "ID_candi"
   ]
  },
  {
   "cell_type": "code",
   "execution_count": null,
   "metadata": {},
   "outputs": [],
   "source": [
    "# 'ID'칼럼을 추가하고 정제한 값들을 넣어준다\n",
    "election_result['ID'] = ID_candi\n",
    "election_result.head(10)"
   ]
  },
  {
   "cell_type": "code",
   "execution_count": null,
   "metadata": {},
   "outputs": [],
   "source": [
    "# 각 후보들의 득표율을 계산하여 넣어준다\n",
    "election_result[['rate_moon','rate_hong','rate_ahn']] = election_result[['moon','hong','ahn']].div(election_result['pop'],axis=0)\n",
    "election_result[['rate_moon','rate_hong','rate_ahn']]*=100\n",
    "election_result.head()"
   ]
  },
  {
   "cell_type": "code",
   "execution_count": null,
   "metadata": {},
   "outputs": [],
   "source": [
    "# 문재인 후보의 득표율을 오름차순으로 보여준다\n",
    "election_result.sort_values(['rate_moon'],ascending=[False].head(10))"
   ]
  },
  {
   "cell_type": "code",
   "execution_count": null,
   "metadata": {},
   "outputs": [],
   "source": [
    "# 홍준표 후보의 득표율을 오름차순으로 보여준다\n",
    "election_result.sort_values(['rate_hong'],ascending=[False].head(10))"
   ]
  },
  {
   "cell_type": "code",
   "execution_count": null,
   "metadata": {},
   "outputs": [],
   "source": [
    "# 안철수 후보의 득표율을 오름차순으로 보여준다\n",
    "election_result.sort_values(['rate_ahn'],ascending=[False].head(10))"
   ]
  },
  {
   "cell_type": "code",
   "execution_count": null,
   "metadata": {},
   "outputs": [],
   "source": [
    "# csv 파일을 읽어온다\n",
    "draw_korea = pd.read_csv('./data/05. draw_korea.csv',encoding='utf-8',index_col=0)\n",
    "draw_korea.head()"
   ]
  },
  {
   "cell_type": "code",
   "execution_count": null,
   "metadata": {},
   "outputs": [],
   "source": [
    "# draw_korea에 있는 지역에서 election_result에 있는 지역을 빼준다\n",
    "set(draw_korea['ID'].unique()) - set(election_result['ID'].unique)"
   ]
  },
  {
   "cell_type": "code",
   "execution_count": null,
   "metadata": {},
   "outputs": [],
   "source": [
    "# 위의 것의 반대로(서로 없는 지역을 알 수 있다)\n",
    "set(election_result['ID'].unique) - set(draw_korea['ID'].unique()) "
   ]
  },
  {
   "cell_type": "code",
   "execution_count": null,
   "metadata": {},
   "outputs": [],
   "source": [
    "# '고성'지역을 찾아낸다\n",
    "election_result[election_result['ID']=='고성']"
   ]
  },
  {
   "cell_type": "code",
   "execution_count": null,
   "metadata": {},
   "outputs": [],
   "source": [
    "# 강원/경남 고성을 각각 나누어 준다\n",
    "election_result.loc[125,'ID'] = '고성(강원)'\n",
    "election_result.loc[233,'ID'] = '고성(경남)'\n",
    "\n",
    "election_result[election_result['시군'] == '고성군']"
   ]
  },
  {
   "cell_type": "code",
   "execution_count": null,
   "metadata": {},
   "outputs": [],
   "source": [
    "# 경상남도 지역을 찾아낸다\n",
    "election_result[election_result['광역시도']=='경상남도']"
   ]
  },
  {
   "cell_type": "code",
   "execution_count": null,
   "metadata": {},
   "outputs": [],
   "source": [
    "# 마산합포구를 합포, 회원으로 변경\n",
    "election_result.loc[228,'ID'] = '창원 합포'\n",
    "election_result.loc[229,'ID'] = '창원 회원'\n",
    "\n",
    "election_result[election_result['광역시도']=='경상남도']"
   ]
  },
  {
   "cell_type": "code",
   "execution_count": null,
   "metadata": {},
   "outputs": [],
   "source": [
    "# draw_korea에 있는 지역에서 election_result에 있는 지역을 빼준다\n",
    "set(draw_korea['ID'].unique()) - set(election_result['ID'].unique)"
   ]
  },
  {
   "cell_type": "code",
   "execution_count": null,
   "metadata": {},
   "outputs": [],
   "source": [
    "# 위의 것의 반대로(서로 없는 지역을 알 수 있다)\n",
    "set(election_result['ID'].unique) - set(draw_korea['ID'].unique()) "
   ]
  },
  {
   "cell_type": "code",
   "execution_count": null,
   "metadata": {},
   "outputs": [],
   "source": [
    "# 부천시를 찾아낸다\n",
    "election_result[election_result['시군']=='부천시']"
   ]
  },
  {
   "cell_type": "code",
   "execution_count": null,
   "metadata": {},
   "outputs": [],
   "source": [
    "election_result.tail()"
   ]
  },
  {
   "cell_type": "code",
   "execution_count": null,
   "metadata": {},
   "outputs": [],
   "source": [
    "ahn_tmp = election_result.loc[85,'ahn']/3\n",
    "hong_tmp = election_result.loc[85,'honh']/3\n",
    "moon_tmp = election_result.loc[85,'moon']/3\n",
    "pop_tmp = election_result.loc[85,'pop']/3\n",
    "\n",
    "rate_moon_tmp = election_result.loc[85,'rate_moon']\n",
    "rate_hong_tmp = election_result.loc[85,'rate_hong']\n",
    "rate_ahn_tmp = election_result.loc[85,'rate_ahn']\n",
    "\n",
    "election_result.loc[250] = [ahn_tmp, hong_tmp, moon_tmp, pop_tmp,\n",
    "                           '경기도','부천시','부천 소사',\n",
    "                           rate_moon_tmp, rate_hong_tmp, rate_ahn_tmp]\n",
    "election_result.loc[251] = [ahn_tmp, hong_tmp, moon_tmp, pop_tmp,\n",
    "                           '경기도','부천시','부천 오정',\n",
    "                           rate_moon_tmp, rate_hong_tmp, rate_ahn_tmp]\n",
    "election_result.loc[252] = [ahn_tmp, hong_tmp, moon_tmp, pop_tmp,\n",
    "                           '경기도','부천시','부천 원미',\n",
    "                           rate_moon_tmp, rate_hong_tmp, rate_ahn_tmp]\n"
   ]
  },
  {
   "cell_type": "code",
   "execution_count": null,
   "metadata": {},
   "outputs": [],
   "source": [
    "election_result[election_result['시군'] == '부천시']"
   ]
  },
  {
   "cell_type": "code",
   "execution_count": null,
   "metadata": {},
   "outputs": [],
   "source": [
    "election_result.drop([85],inplace=True)\n",
    "election_result[election_result['시군'] == ['부천시']]"
   ]
  },
  {
   "cell_type": "code",
   "execution_count": null,
   "metadata": {},
   "outputs": [],
   "source": [
    "set(draw_korea['ID'].unique()) - set(election_result['ID'].unique)"
   ]
  },
  {
   "cell_type": "code",
   "execution_count": null,
   "metadata": {},
   "outputs": [],
   "source": [
    "set(election_result['ID'].unique) - set(draw_korea['ID'].unique()) "
   ]
  },
  {
   "cell_type": "code",
   "execution_count": null,
   "metadata": {},
   "outputs": [],
   "source": [
    "final_elect_data = pd.merge(election_result,draw_korea,how='left',on=[\"ID\"])\n",
    "final_elect_data"
   ]
  },
  {
   "cell_type": "code",
   "execution_count": null,
   "metadata": {},
   "outputs": [],
   "source": [
    "final_elect_data['moon_vs_hong'] = final_elect_data['rate_moon'] - final_elect_data['rate_hong']\n",
    "final_elect_data['moon_vs_ahn'] = final_elect_data['rate_moon'] - final_elect_data['rate_ahn']\n",
    "final_elect_data['ahn_vs_hong'] = final_elect_data['rate_ahn'] - final_elect_data['rate_hong']\n",
    "final_elect_data.head()"
   ]
  },
  {
   "cell_type": "markdown",
   "metadata": {},
   "source": [
    "# 6-4 19대 대선 결과 득표율 시각화하기"
   ]
  },
  {
   "cell_type": "code",
   "execution_count": null,
   "metadata": {},
   "outputs": [],
   "source": [
    "# 지역별로 경계선을 나누어준다\n",
    "BORDER_LINES = [[(5,1),(5,2),(7,2),(7,3),(11,3),(11,0)],# 인천\n",
    "                [(5,4),(5,5),(2,5),(2,7),(4,7),(4,9),(7,9), (7,7),(9,7),(9,5),(10,5),(10,4),(5,4)],# 서울\n",
    "                [(1,7),(1,8),(3,8),(3,10),(10,10),(10,7),\n",
    "                (12,7),(12,6),(11,6),(11,5),(12,5),(12,4),(11,4),(11,3)], # 경기도\n",
    "                [(8,10),(8,11),(6,11),(6,12)],  #  강원도\n",
    "                [(12,5),(13,5),(13,4),(14,4),(14,5),(15,5),(15,4),(16,4),(16,2)], # 충청북도\n",
    "                [(16,4),(17,4),(17,5),(16,5),(16,6),(19,6),(19,5),(20,5),(20,4),(21,4),(21,3),(19,3),(19,1)], # 전라북도\n",
    "                [(13,5),(13,6),(16,6)], # 대전시\n",
    "                [(13,5),(14,5)],   # 세종시\n",
    "                [(21,2),(21,3),(22,3),(22,4),(24,4),(24,2),(21,2)], # 광주\n",
    "                [(20,5),(21,5),(21,6),(23,6)],  # 전라남도\n",
    "                [(10,8),(12,8),(12,9),(14,9),(14,8),(16,8),(16,6)], # 충청북도\n",
    "                [(14,9),(14,11),(14,12),(13,12),(13,13)],  # 경상북도\n",
    "                [(15,8),(17,8),(17,10),(16,10),(16,11),(14,11)], # 대구\n",
    "                [(17,9),(18,9),(18,8),(19,8),(19,9),(20,9),(20,10),(21,10)], # 부산\n",
    "                [(16,11),(16,13)], # 울산\n",
    "                [(27,5),(27,6),(25,6)]\n",
    "               ]\n",
    "                \n",
    "\n"
   ]
  },
  {
   "cell_type": "code",
   "execution_count": null,
   "metadata": {},
   "outputs": [],
   "source": [
    "def drawKorea(targetData, blockedMap, cmapname ):\n",
    "    gamma = 0.75\n",
    "    \n",
    "    whitelabelmin = 20\n",
    "    datalabel = targetData\n",
    "    \n",
    "    tmp_max = max([np.abs(min(blockedMap[targetData])),np.abs(max(blockedMap[targetData]))])\n",
    "    \n",
    "    vmin, vmax = -tmp_max, tmp_max\n",
    "    \n",
    "    mapdata = blockedMap.pivot_table(index='y',columns='x',values=targetData)\n",
    "    masked_mapdata = np.ma.masked_where(np.isnan(mapdata),mapdata)\n",
    "    \n",
    "    plt.figure(figsize = (9,11))\n",
    "    plt.color(masked_mapdata, vmin = vmin, vmax=vmax, cmap=cmapname,\n",
    "             edgecolor = '#aaaaaa',linewidth=0.5)\n",
    "    \n",
    "    # 지역이름 표시\n",
    "    for idx, row in blockedMap.itterrows():\n",
    "        if len(row['ID'].split()) ==2:\n",
    "            dispname = '{}\\{}'.format(row['ID'].split()[0], row['ID'].split()[1])\n",
    "        elif row['ID'][:2]=='고성':\n",
    "            dispname = '고성'\n",
    "        else:\n",
    "            dispname = row['ID']\n",
    "            \n",
    "    # 서대문구, 서귀포시와 같이 읆이 3자 이상인 경우에 작은 글자로 표시한다.    \n",
    "    if len(dispname.splitlines()[-1]) >= 3:\n",
    "        fontsize, linespacing = 10.0, 1.1\n",
    "    else:\n",
    "        fontsize, linespacing = 11,1.\n",
    "    \n",
    "    annocolor = 'white' if row[targetData] > whitelabelmin else 'black'\n",
    "    plt.annotate(dispname, (row['x']+0.5, row['y']+0.5),weight='bold'.\n",
    "                fontsize=fontsize, ha='center', va='center', color=annocolor,\n",
    "                linespacing=linespacing)\n",
    "    \n",
    "    # 시도 경계 그린다\n",
    "    for path in BORDER_LINES:\n",
    "        ys, xs = zip(*path)\n",
    "        plt.plot(xs,ys,c='black',lw=2)\n",
    "    \n",
    "    plt.gca().invert_yaxis()\n",
    "    \n",
    "    plt.axis('off')\n",
    "    \n",
    "    cb = plt.colorbar(shrink=.0,aspect=10)\n",
    "    cb.set_label(datalabel)\n",
    "    \n",
    "    plt.tight_layout()\n",
    "    plt.show()"
   ]
  },
  {
   "cell_type": "code",
   "execution_count": null,
   "metadata": {},
   "outputs": [],
   "source": [
    "drawKorea('moon_vs_hong',final_elect_data,'RdBu')"
   ]
  },
  {
   "cell_type": "code",
   "execution_count": null,
   "metadata": {},
   "outputs": [],
   "source": [
    "drawKorea('moon_vs_ahn',final_elect_data,'RdBu')"
   ]
  },
  {
   "cell_type": "code",
   "execution_count": null,
   "metadata": {},
   "outputs": [],
   "source": [
    "drawKorea('ahn_vs_hong',final_elect_data,'RdBu')"
   ]
  },
  {
   "cell_type": "code",
   "execution_count": null,
   "metadata": {},
   "outputs": [],
   "source": [
    "import folium\n",
    "import json\n",
    "import warnings\n",
    "warnings.simplefilter(action='ignore',category=FutureWarning)"
   ]
  },
  {
   "cell_type": "code",
   "execution_count": null,
   "metadata": {},
   "outputs": [],
   "source": [
    "pop_folium = final_elect_data.set_index('ID')\n",
    "\n",
    "del pop_folium['광역시도']\n",
    "del pop_folium['시군']\n",
    "\n",
    "pop_folium.head()"
   ]
  },
  {
   "cell_type": "code",
   "execution_count": null,
   "metadata": {},
   "outputs": [],
   "source": [
    "geo_path = './data/05. skorea_municipalities_geo_simple.json'\n",
    "geo_data = json.load(open(geo_path,encoding='utf-8'))\n",
    "\n",
    "map = folium.Map(location=[36.2002,127.054],zoom_start=6)\n",
    "map.choropleth(geo_str = geo_data,\n",
    "              data = pop_folium['moon_vs_hong'],\n",
    "              colimns = [pop_folium.index.pop_folium['moon_vs_hong']],\n",
    "              fill_color = 'PuBu',\n",
    "              key_on = 'feature.id')\n",
    "map"
   ]
  },
  {
   "cell_type": "code",
   "execution_count": null,
   "metadata": {},
   "outputs": [],
   "source": []
  }
 ],
 "metadata": {
  "kernelspec": {
   "display_name": "Python 3",
   "language": "python",
   "name": "python3"
  },
  "language_info": {
   "codemirror_mode": {
    "name": "ipython",
    "version": 3
   },
   "file_extension": ".py",
   "mimetype": "text/x-python",
   "name": "python",
   "nbconvert_exporter": "python",
   "pygments_lexer": "ipython3",
   "version": "3.7.4"
  }
 },
 "nbformat": 4,
 "nbformat_minor": 2
}
